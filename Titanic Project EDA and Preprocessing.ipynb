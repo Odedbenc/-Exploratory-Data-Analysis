{
 "cells": [
  {
   "cell_type": "code",
   "execution_count": 1,
   "metadata": {},
   "outputs": [
    {
     "data": {
      "text/html": [
       "\n",
       "<style>\n",
       ".output_png {\n",
       "    display: table-cell;\n",
       "    text-align: center;\n",
       "    vertical-align: middle;\n",
       "}\n",
       "</style>\n"
      ],
      "text/plain": [
       "<IPython.core.display.HTML object>"
      ]
     },
     "execution_count": 1,
     "metadata": {},
     "output_type": "execute_result"
    }
   ],
   "source": [
    "# Import Packages:\n",
    "import numpy as np\n",
    "import pandas as pd\n",
    "import matplotlib.pyplot as plt\n",
    "import seaborn as sns\n",
    "import scipy.stats as stats\n",
    "from sklearn.preprocessing import StandardScaler\n",
    "from sklearn.preprocessing import PowerTransformer\n",
    "\n",
    "from IPython.core.display import HTML\n",
    "HTML(\"\"\"\n",
    "<style>\n",
    ".output_png {\n",
    "    display: table-cell;\n",
    "    text-align: center;\n",
    "    vertical-align: middle;\n",
    "}\n",
    "</style>\n",
    "\"\"\")"
   ]
  },
  {
   "cell_type": "code",
   "execution_count": 2,
   "metadata": {},
   "outputs": [],
   "source": [
    "# Read files:\n",
    "train = pd.read_csv('train.csv')\n",
    "test = pd.read_csv('test_full.csv')"
   ]
  },
  {
   "cell_type": "code",
   "execution_count": 3,
   "metadata": {},
   "outputs": [
    {
     "data": {
      "text/html": [
       "<div>\n",
       "<style scoped>\n",
       "    .dataframe tbody tr th:only-of-type {\n",
       "        vertical-align: middle;\n",
       "    }\n",
       "\n",
       "    .dataframe tbody tr th {\n",
       "        vertical-align: top;\n",
       "    }\n",
       "\n",
       "    .dataframe thead th {\n",
       "        text-align: right;\n",
       "    }\n",
       "</style>\n",
       "<table border=\"1\" class=\"dataframe\">\n",
       "  <thead>\n",
       "    <tr style=\"text-align: right;\">\n",
       "      <th></th>\n",
       "      <th>PassengerId</th>\n",
       "      <th>Survived</th>\n",
       "      <th>Pclass</th>\n",
       "      <th>Name</th>\n",
       "      <th>Sex</th>\n",
       "      <th>Age</th>\n",
       "      <th>SibSp</th>\n",
       "      <th>Parch</th>\n",
       "      <th>Ticket</th>\n",
       "      <th>Fare</th>\n",
       "      <th>Cabin</th>\n",
       "      <th>Embarked</th>\n",
       "    </tr>\n",
       "  </thead>\n",
       "  <tbody>\n",
       "    <tr>\n",
       "      <th>0</th>\n",
       "      <td>892</td>\n",
       "      <td>0</td>\n",
       "      <td>3</td>\n",
       "      <td>Kelly, Mr. James</td>\n",
       "      <td>male</td>\n",
       "      <td>34.5</td>\n",
       "      <td>0</td>\n",
       "      <td>0</td>\n",
       "      <td>330911</td>\n",
       "      <td>7.8292</td>\n",
       "      <td>NaN</td>\n",
       "      <td>Q</td>\n",
       "    </tr>\n",
       "    <tr>\n",
       "      <th>1</th>\n",
       "      <td>893</td>\n",
       "      <td>1</td>\n",
       "      <td>3</td>\n",
       "      <td>Wilkes, Mrs. James (Ellen Needs)</td>\n",
       "      <td>female</td>\n",
       "      <td>47.0</td>\n",
       "      <td>1</td>\n",
       "      <td>0</td>\n",
       "      <td>363272</td>\n",
       "      <td>7.0000</td>\n",
       "      <td>NaN</td>\n",
       "      <td>S</td>\n",
       "    </tr>\n",
       "    <tr>\n",
       "      <th>2</th>\n",
       "      <td>894</td>\n",
       "      <td>0</td>\n",
       "      <td>2</td>\n",
       "      <td>Myles, Mr. Thomas Francis</td>\n",
       "      <td>male</td>\n",
       "      <td>62.0</td>\n",
       "      <td>0</td>\n",
       "      <td>0</td>\n",
       "      <td>240276</td>\n",
       "      <td>9.6875</td>\n",
       "      <td>NaN</td>\n",
       "      <td>Q</td>\n",
       "    </tr>\n",
       "    <tr>\n",
       "      <th>3</th>\n",
       "      <td>895</td>\n",
       "      <td>0</td>\n",
       "      <td>3</td>\n",
       "      <td>Wirz, Mr. Albert</td>\n",
       "      <td>male</td>\n",
       "      <td>27.0</td>\n",
       "      <td>0</td>\n",
       "      <td>0</td>\n",
       "      <td>315154</td>\n",
       "      <td>8.6625</td>\n",
       "      <td>NaN</td>\n",
       "      <td>S</td>\n",
       "    </tr>\n",
       "    <tr>\n",
       "      <th>4</th>\n",
       "      <td>896</td>\n",
       "      <td>1</td>\n",
       "      <td>3</td>\n",
       "      <td>Hirvonen, Mrs. Alexander (Helga E Lindqvist)</td>\n",
       "      <td>female</td>\n",
       "      <td>22.0</td>\n",
       "      <td>1</td>\n",
       "      <td>1</td>\n",
       "      <td>3101298</td>\n",
       "      <td>12.2875</td>\n",
       "      <td>NaN</td>\n",
       "      <td>S</td>\n",
       "    </tr>\n",
       "  </tbody>\n",
       "</table>\n",
       "</div>"
      ],
      "text/plain": [
       "   PassengerId  Survived  Pclass  \\\n",
       "0          892         0       3   \n",
       "1          893         1       3   \n",
       "2          894         0       2   \n",
       "3          895         0       3   \n",
       "4          896         1       3   \n",
       "\n",
       "                                           Name     Sex   Age  SibSp  Parch  \\\n",
       "0                              Kelly, Mr. James    male  34.5      0      0   \n",
       "1              Wilkes, Mrs. James (Ellen Needs)  female  47.0      1      0   \n",
       "2                     Myles, Mr. Thomas Francis    male  62.0      0      0   \n",
       "3                              Wirz, Mr. Albert    male  27.0      0      0   \n",
       "4  Hirvonen, Mrs. Alexander (Helga E Lindqvist)  female  22.0      1      1   \n",
       "\n",
       "    Ticket     Fare Cabin Embarked  \n",
       "0   330911   7.8292   NaN        Q  \n",
       "1   363272   7.0000   NaN        S  \n",
       "2   240276   9.6875   NaN        Q  \n",
       "3   315154   8.6625   NaN        S  \n",
       "4  3101298  12.2875   NaN        S  "
      ]
     },
     "execution_count": 3,
     "metadata": {},
     "output_type": "execute_result"
    }
   ],
   "source": [
    "# Let's check the data:\n",
    "test.head()"
   ]
  },
  {
   "cell_type": "code",
   "execution_count": 4,
   "metadata": {},
   "outputs": [
    {
     "data": {
      "text/plain": [
       "PassengerId      0\n",
       "Survived         0\n",
       "Pclass           0\n",
       "Name             0\n",
       "Sex              0\n",
       "Age            177\n",
       "SibSp            0\n",
       "Parch            0\n",
       "Ticket           0\n",
       "Fare             0\n",
       "Cabin          687\n",
       "Embarked         2\n",
       "dtype: int64"
      ]
     },
     "execution_count": 4,
     "metadata": {},
     "output_type": "execute_result"
    }
   ],
   "source": [
    "# Missing data analysis:\n",
    "train.isna().sum()"
   ]
  },
  {
   "cell_type": "code",
   "execution_count": 5,
   "metadata": {},
   "outputs": [
    {
     "data": {
      "text/plain": [
       "PassengerId      int64\n",
       "Survived         int64\n",
       "Pclass           int64\n",
       "Name            object\n",
       "Sex             object\n",
       "Age            float64\n",
       "SibSp            int64\n",
       "Parch            int64\n",
       "Ticket          object\n",
       "Fare           float64\n",
       "Cabin           object\n",
       "Embarked        object\n",
       "dtype: object"
      ]
     },
     "execution_count": 5,
     "metadata": {},
     "output_type": "execute_result"
    }
   ],
   "source": [
    "# Data Type analysis:\n",
    "train.dtypes"
   ]
  },
  {
   "cell_type": "markdown",
   "metadata": {},
   "source": [
    "## Exploratory Data Analysis:  "
   ]
  },
  {
   "cell_type": "markdown",
   "metadata": {},
   "source": [
    "### 'Ticket' Column:\n",
    "Since there are a lot of Ticket duplicates we can assume that passengers that share the same ticket are friends or family. Let's make a new category for passengers that share ticket.\n",
    "\n",
    "Because the data is separated to train and test, some passengers that appear in the trian data can be sharing a ticket with passengers in the test data. Therefore, only for this feature manipulation we will combine the 'Ticket' column from both train and test set in to one list, and then save only the ticket names that are duplicated. Than we will make a list of dup tickets for the train and test sats separately. It is maybe not the right way of data preprocessing, but we are not building the model based on the test predictions, and also the goal is to achieve the highest score.. "
   ]
  },
  {
   "cell_type": "code",
   "execution_count": 6,
   "metadata": {},
   "outputs": [],
   "source": [
    "# Extruct 'Ticket' column from train set \n",
    "Ticket_train = train.Ticket.tolist()\n",
    "# Extruct 'Ticket' column from test set \n",
    "Ticket_test = test.Ticket.tolist()\n",
    "# Combine both lists.\n",
    "Ticket_total = Ticket_train + Ticket_test\n",
    "# Make a list of shared tickets:\n",
    "Ticket_total_Dup = set([x for x in Ticket_total if Ticket_total.count(x) > 1])\n",
    "# Save to new list shared tickets that appear only in train set. \n",
    "Ticket_Dup_train = list(set(Ticket_train) & set(Ticket_total_Dup))\n",
    "# Save to new list shared tickets that appear only in test set, later on. \n",
    "Ticket_Dup_test = list(set(Ticket_test) & set(Ticket_total_Dup))"
   ]
  },
  {
   "cell_type": "code",
   "execution_count": 7,
   "metadata": {},
   "outputs": [],
   "source": [
    "# Add a new column for Shared ticket - Yes(1) or No(0)\n",
    "train['Share_ticket'] = 0\n",
    "\n",
    "# Create a mask for rows with shared ticket\n",
    "mask2 = train['Ticket'].isin(Ticket_Dup_train)\n",
    "\n",
    "# Apply mask on new column and assign 1 for shared ticket\n",
    "train.loc[mask2,'Share_ticket'] = 1"
   ]
  },
  {
   "cell_type": "markdown",
   "metadata": {},
   "source": [
    "### 'Title'  Column:"
   ]
  },
  {
   "cell_type": "code",
   "execution_count": 8,
   "metadata": {},
   "outputs": [],
   "source": [
    "# From the 'Name' column we can extruct the Title of the passenger: \n",
    "train['Title'] = [row.split()[1] for row in train.Name]\n",
    "\n",
    "# First we will change every Title that is not ['Mr.', 'Mrs.', 'Miss.', 'Master.'] in to 'M':\n",
    "Mtitle = train.Title.value_counts() < 10\n",
    "train.loc[train['Title'].map(Mtitle),'Title'] = 'M'\n",
    "\n",
    "# We will calculate the average 'Age' for Miss. and Mrs. respectively\n",
    "Miss_avg_age = train[train['Title'] == 'Miss.']['Age'].dropna().mean()\n",
    "Mrs_avg_age = train[train['Title'] == 'Mrs.']['Age'].dropna().mean()\n",
    "\n",
    "# Write a function that changes the value 'M' according to 'Sex':\n",
    "# If male - change to 'Mr.', and if female - change to 'Mrs.' or 'Miss.' depends on the age.\n",
    "def Change_title(df,row,i):\n",
    "    if row == 'M':\n",
    "        if df.iloc[i]['Sex'] == 'female':\n",
    "            age = df.iloc[i]['Age']\n",
    "            # If a woman age is closer to the average 'Miss.' age so assign 'Miss', else assign 'Mrs.':\n",
    "            if abs(Miss_avg_age-age) < abs(Mrs_avg_age-age): \n",
    "                row = 'Miss.'\n",
    "            else:\n",
    "                row = 'Mrs.'    \n",
    "            return(row)\n",
    "        else:\n",
    "            row = 'Mr.'\n",
    "            return(row)\n",
    "    else:\n",
    "        return(row)\n",
    "\n",
    "# Apply function on 'Title' column with list comprehension:\n",
    "train['Title'] = [Change_title(train,row,i) for i, row in enumerate(train['Title'])]"
   ]
  },
  {
   "cell_type": "markdown",
   "metadata": {},
   "source": [
    "### 'Cabin' Column:\n",
    "The 'Cabin' column was full of NaN's and was really messy, the values were displayed as \"Capital Letter\"+\"number\". \n",
    "Since the number is not important, but the Cabin Letter is, we will first extruct the letters to a different column \"Cabin_Class\": "
   ]
  },
  {
   "cell_type": "code",
   "execution_count": 9,
   "metadata": {},
   "outputs": [],
   "source": [
    "def Class_L(row):\n",
    "    if type(row) == str:\n",
    "        row = row[0]\n",
    "        return(row)\n",
    "    else: \n",
    "        return(row) \n",
    "\n",
    "# Apply function on 'Cabin'\n",
    "train['Cabin_Class'] = [Class_L(row) for row in train['Cabin']]\n",
    "\n",
    "# A Class 'T' appeared only in one row, apparently becouse of typo. Let's change it to the most common Class within the \n",
    "# group of Pclass=1 - 'C':  \n",
    "train['Cabin_Class'] = train['Cabin_Class'].replace('T','C')"
   ]
  },
  {
   "cell_type": "markdown",
   "metadata": {},
   "source": [
    "### Columns Plotting:\n",
    "Before dealing with the missing values problem in the data, les't first explore the columns in the data.\n",
    "\n",
    "We will begin with displaying counterplots of the categorical columns of the data:"
   ]
  },
  {
   "cell_type": "code",
   "execution_count": 10,
   "metadata": {},
   "outputs": [
    {
     "data": {
      "image/png": "[encoded data removed]",
      "text/plain": [
       "<Figure size 1296x432 with 8 Axes>"
      ]
     },
     "metadata": {},
     "output_type": "display_data"
    }
   ],
   "source": [
    "Cat_Columns = ['Survived','Pclass','Title','SibSp','Parch','Embarked','Cabin_Class','Share_ticket']\n",
    "sns.set(style = \"darkgrid\")\n",
    "fig = plt.figure(figsize = (18, 6))\n",
    "fig.subplots_adjust(hspace = 0.3, wspace = 0.3)\n",
    "\n",
    "for i ,col in enumerate(Cat_Columns):\n",
    "    ax = fig.add_subplot(2, 4, i + 1)\n",
    "    sns.countplot(x = col,data = train)"
   ]
  },
  {
   "cell_type": "markdown",
   "metadata": {},
   "source": [
    "Some Insights: \n",
    "- We can clearly see that more passengers died then survived, most of the passengers stayed in the lower class (3), and most of the passengers embarked at 'S'.\n",
    "- Since Mr. and Master. are related to males and Mrs. and Miss. are related to females, te is no need to plot the 'Sex' column.\n",
    "- Both 'SibSp' and 'Parch' have values that count really low, there for we will later fix it by summing all values from 2-8 in 'SibSp' and 2-6 in 'Parch'. "
   ]
  },
  {
   "cell_type": "code",
   "execution_count": 11,
   "metadata": {},
   "outputs": [],
   "source": [
    "# Fixing the 'SibSp' and 'Parch' columns:\n",
    "for col in ['Parch','SibSp']:\n",
    "    train[col] = train[col].apply(lambda x: 2 if x > 2 else x)"
   ]
  },
  {
   "cell_type": "markdown",
   "metadata": {},
   "source": [
    "### Missing Values Analysis in 'Cabin' \n",
    "We want to check if there is a correlation between passengers that reserved a ticket together ['Share_Ticket'] == 1, and if those passengers are sharing the same cabin, so for example, if the Anderson family (5 people) have the same ticket, do they \n",
    "also have the same cabin...\n",
    "We will check it by looping over each group of passengers with the same ticket number, only on groups without missing values\n",
    "(nans), and we'll calculate the number of times a group with the same ticket also shared the same cabin, and the number of times a group with the same ticket were scattered over different cabins.\n",
    "\n",
    "This analysis will help us to understand how to impute the 'Cabin' missing values of passengers with the same ticket \n",
    "(['Share_Ticket'] == 1), So, therefore, if the above correlation exists, each group that shares the same ticket, and have\n",
    "missing values in the 'Cabin' column, will be imputed with the same 'Cabin' value."
   ]
  },
  {
   "cell_type": "code",
   "execution_count": 12,
   "metadata": {},
   "outputs": [
    {
     "name": "stdout",
     "output_type": "stream",
     "text": [
      "{'Unique Cabin': 61, 'Different Cabin': 2}\n"
     ]
    }
   ],
   "source": [
    "# Create a list of shared tickets: \n",
    "Tickets_Dup = train[train['Share_ticket'] == 1]['Ticket'].unique().tolist()\n",
    "\n",
    "def Check_unique_Cabins(df,Tickets_Dup):\n",
    "    \n",
    "    Count = {\n",
    "        'Unique Cabin' : 0,\n",
    "        'Different Cabin' : 0\n",
    "            }\n",
    "\n",
    "    for ticket in Tickets_Dup:\n",
    "        mask = df['Ticket'] == ticket\n",
    "        Ticket_Group = df.loc[mask,'Cabin_Class']\n",
    "        With_nan=Ticket_Group.isnull().values.sum()\n",
    "        if With_nan == 0:\n",
    "            a = len(Ticket_Group.unique())\n",
    "            if a == 1:\n",
    "                Count['Unique Cabin'] += 1\n",
    "            elif a > 1:\n",
    "                Count['Different Cabin'] += 1\n",
    "    return(Count)    \n",
    "print(Check_unique_Cabins(train,Tickets_Dup))"
   ]
  },
  {
   "cell_type": "markdown",
   "metadata": {},
   "source": [
    "Ok, So we saw that there is a clear correlation between buying the same ticket and staying in the same cabin. \n",
    "Therefore, we are left with 3 different cases of missing data in the 'Cabin' column:\n",
    "\n",
    "Case 1: Group of passengers with the same ticket number where some have a cabin value and some doesn't (missing values).\n",
    "For those who doesn't have a cabin value we need to fill the missing values according to the cabin of the other passengers in the group.\n",
    "In the rare case were there is more then one unique cabin for a group, we'll fill with the most frequent value. "
   ]
  },
  {
   "cell_type": "code",
   "execution_count": 13,
   "metadata": {},
   "outputs": [
    {
     "name": "stdout",
     "output_type": "stream",
     "text": [
      "{'Unique Cabin': 71, 'Different Cabin': 2}\n"
     ]
    }
   ],
   "source": [
    "def Case_1(df,Tickets_Dup):\n",
    "    #Loop over the shared ticket numbers: \n",
    "    for ticket in Tickets_Dup:\n",
    "        mask = df['Ticket'] == ticket\n",
    "        Ticket_grp = df.loc[mask,'Cabin_Class']\n",
    "        # Count unique number of ticket in group:\n",
    "        tot = len(Ticket_grp.unique())\n",
    "        if tot > 1:\n",
    "            # Check if there is nan in the group (but also other value...)\n",
    "            tot_num = Ticket_grp.isnull().values.sum()\n",
    "            if tot_num > 0:\n",
    "                # Find the most frequent value that is not a nan:\n",
    "                freq_val = Ticket_grp.value_counts().index[0]\n",
    "                # replace nan in group with the most frequent value:\n",
    "                df.loc[mask ,'Cabin_Class'] = df[mask]['Cabin_Class'].replace(np.nan,freq_val)\n",
    "    return(df)\n",
    "\n",
    "train = Case_1(train,Tickets_Dup)\n",
    "print(Check_unique_Cabins(train,Tickets_Dup))"
   ]
  },
  {
   "cell_type": "markdown",
   "metadata": {},
   "source": [
    "As we can see another 10 'Unique Cabin' where added as a result of filling the nan values in groups with other values also.  "
   ]
  },
  {
   "cell_type": "markdown",
   "metadata": {},
   "source": [
    "We are now left with two cases, the second one refers to the shared ticket groups that their cabin is completly unknown, and the third group is passengers that bought thier ticket not in a group, and thier cabin is unknown as well. \n",
    "To impute thier missing cabin values we need first to check some correlation between the 'Cabin' column to the other columns in the data. \n",
    "\n",
    "To compute the correlations between other columns with categorical data, we will use the Chi squared test of independence."
   ]
  },
  {
   "cell_type": "code",
   "execution_count": 14,
   "metadata": {},
   "outputs": [
    {
     "data": {
      "image/png": "[encoded data removed]",
      "text/plain": [
       "<Figure size 432x288 with 1 Axes>"
      ]
     },
     "metadata": {},
     "output_type": "display_data"
    }
   ],
   "source": [
    "def Chi_sqrt(df,Columns,Col_def):   \n",
    "    \n",
    "    Chi_res = []\n",
    "    Cabins = df[df.Cabin_Class.notna()]\n",
    "    \n",
    "    for col in Columns:\n",
    "        crosstab = pd.crosstab(Cabins[Col_def], Cabins[col])\n",
    "        chi2 = stats.chi2_contingency(crosstab)[0]\n",
    "        Chi_res.append(chi2)\n",
    "        \n",
    "    zipped_lists = zip(Chi_res, Columns)\n",
    "    sorted_zipped_lists = sorted(zipped_lists,reverse=False)\n",
    "    Chi_res = [x for x,_  in sorted_zipped_lists]\n",
    "    Columns = [x for _,x  in sorted_zipped_lists]\n",
    "    \n",
    "    sns.set(style = \"darkgrid\")\n",
    "    fig, ax = plt.subplots()\n",
    "    ax.barh(Columns,Chi_res)\n",
    "    ax.set_yticklabels(Columns)\n",
    "    ax.set_xlabel('Chi Squared')\n",
    "    plt.title('Correlation with ' + Col_def)\n",
    "    plt.show()\n",
    "        \n",
    "    \n",
    "\n",
    "Columns = ['Pclass','SibSp','Parch','Embarked','Share_ticket']\n",
    "Col_def = 'Cabin_Class'\n",
    "Chi_sqrt(train,Columns,Col_def)"
   ]
  },
  {
   "cell_type": "markdown",
   "metadata": {},
   "source": [
    "We can see that the 'Pclass' column has the most correlation between all the other categorical columns. Let's explore it:\n"
   ]
  },
  {
   "cell_type": "code",
   "execution_count": 15,
   "metadata": {},
   "outputs": [
    {
     "data": {
      "image/png": "[encoded data removed]",
      "text/plain": [
       "<Figure size 1411.2x288 with 7 Axes>"
      ]
     },
     "metadata": {},
     "output_type": "display_data"
    }
   ],
   "source": [
    "# Pclass distribution over different Cabins\n",
    "train_Cabin_dropna = train.dropna(subset = ['Cabin_Class'])\n",
    "sns.set(style = \"darkgrid\")\n",
    "sns.catplot(x = \"Pclass\", col = \"Cabin_Class\",\n",
    "                data = train_Cabin_dropna, kind = \"count\",\n",
    "                height = 4, aspect = .7 ,col_order = ['A','B','C','D','E','F','G']);\n",
    "plt.show()\n",
    "\n",
    "# In the plot bellow we can see a counterplot that counts the number of Pclass apearance in each Cabin. \n",
    "# Remember, there is a lot of missing data.  "
   ]
  },
  {
   "cell_type": "code",
   "execution_count": 16,
   "metadata": {},
   "outputs": [
    {
     "data": {
      "image/png": "[encoded data removed]",
      "text/plain": [
       "<Figure size 432x288 with 1 Axes>"
      ]
     },
     "metadata": {},
     "output_type": "display_data"
    }
   ],
   "source": [
    "# Let's look at the distribution of the Cabin missing data over each Pclass:\n",
    "train_Cabin_nan = train[train['Cabin_Class'].isnull()]\n",
    "sns.set(style = \"darkgrid\")\n",
    "sns.countplot(x = 'Pclass',data = train_Cabin_nan)\n",
    "plt.title('Cabin_Class Missing data distribution over different Pclass')\n",
    "plt.show()\n",
    "\n",
    "# As we can see, most of the Cabin missing data belongs to the lower Pclass, we need to find a relevant way to estimate the\n",
    "# missing data. "
   ]
  },
  {
   "cell_type": "markdown",
   "metadata": {},
   "source": [
    "Missing Values Replacement: We decided To fill the missing values in the 'Cabin_Class' column in the following way:\n",
    "\n",
    "For each class of 'Pclass' (1/2/3) find the Cabin_Class values and thier apperence probabilities. Then, randomly assign \n",
    "classes to missing Cabin_Class values with the respective probabilities."
   ]
  },
  {
   "cell_type": "code",
   "execution_count": 17,
   "metadata": {},
   "outputs": [],
   "source": [
    "# Define the column that is to be imputed ['Cabin_Class'], and the column with the higer correlation that the probabiliteis\n",
    "# will be computed from ['Pclass']\n",
    "Col_with_nans = 'Cabin_Class'\n",
    "Col_prob_from = 'Pclass'\n",
    "\n",
    "# Create a Function that provides the lists of Cat values for each pclass and thier probabilities:\n",
    "def Create_prob(df):\n",
    "    # Column unique values (for Pclass is(1/2/3)):\n",
    "    col_un = np.sort(df[Col_prob_from].unique().tolist())\n",
    "    Cat_vals = {}\n",
    "    Cat_vals_proba = {}\n",
    "    for i in col_un:\n",
    "        mask = df[Col_prob_from] == i\n",
    "        # List of categorical values for each pclass group:\n",
    "        lst = df.loc[mask,Col_with_nans].value_counts().index.tolist()\n",
    "        # List of appearance for each value:\n",
    "        n = np.array(df.loc[mask,Col_with_nans].value_counts().tolist())\n",
    "        # Compute proba:\n",
    "        prob = n / (sum(n))\n",
    "        Cat_vals[i]=lst\n",
    "        Cat_vals_proba[i]=prob\n",
    "    return(Cat_vals,Cat_vals_proba)\n",
    "\n",
    "Cat_Pclass,Cat_Pclass_proba = Create_prob(train)"
   ]
  },
  {
   "cell_type": "markdown",
   "metadata": {},
   "source": [
    "Case 2: we need to fill one unique value to the group of passengers who have bought the same ticket:"
   ]
  },
  {
   "cell_type": "code",
   "execution_count": 18,
   "metadata": {},
   "outputs": [
    {
     "name": "stdout",
     "output_type": "stream",
     "text": [
      "{'Unique Cabin': 198, 'Different Cabin': 2}\n"
     ]
    }
   ],
   "source": [
    "# Create a function that randomly assigns Cabin_Class values by grouping Pclass value and according to their probabilities\n",
    "# lists:   \n",
    "Tickets_Dup2 = train[train.Cabin_Class.isna() & train.Share_ticket == 1]['Ticket'].unique().tolist()\n",
    "\n",
    "def Case_2(df,Tickets_Dup2):\n",
    "    #Loop over the shared ticken numbers: \n",
    "    for ticket in Tickets_Dup2:\n",
    "        mask = df['Ticket'] == ticket\n",
    "        Ticket_grp = df.loc[mask]\n",
    "        # Count unique number of ticket in group:\n",
    "        tot = len(Ticket_grp)\n",
    "        # Obtaining the Pclass of the group:\n",
    "        col_val = int(Ticket_grp['Pclass'].unique()) \n",
    "        val = str(np.random.choice(Cat_Pclass[col_val],1,p = Cat_Pclass_proba[col_val])[0])\n",
    "        df.loc[mask,'Cabin_Class']=df[mask]['Cabin_Class'].replace(np.nan,val)   \n",
    "    return(df)\n",
    "\n",
    "train = Case_2(train,Tickets_Dup2)\n",
    "print(Check_unique_Cabins(train,Tickets_Dup))"
   ]
  },
  {
   "cell_type": "markdown",
   "metadata": {},
   "source": [
    "Case 3: Impute a random class to nan cabins for passengers that didn't buy the ticket as a group (['Share_ticket']==0). \n",
    "We will use the same permutation method used in case 2: "
   ]
  },
  {
   "cell_type": "code",
   "execution_count": 19,
   "metadata": {},
   "outputs": [],
   "source": [
    "# Create a function that randomly assigns Cabin_Class values by grouping Pclass value and according to their probabilities\n",
    "# lists:  \n",
    "def Assign_Cabin(row,i):\n",
    "    if type(row) == float:\n",
    "        pclass = train['Pclass'][i]\n",
    "        row = str(np.random.choice(Cat_Pclass[pclass],1,p=Cat_Pclass_proba[pclass])[0])\n",
    "    return(row)\n",
    "\n",
    "train['Cabin_Class']=[Assign_Cabin(row,i) for i, row in enumerate(train['Cabin_Class'])] "
   ]
  },
  {
   "cell_type": "code",
   "execution_count": 20,
   "metadata": {},
   "outputs": [
    {
     "data": {
      "image/png": "[encoded data removed]",
      "text/plain": [
       "<Figure size 1411.2x288 with 7 Axes>"
      ]
     },
     "metadata": {},
     "output_type": "display_data"
    }
   ],
   "source": [
    "# Pclass distribution over different Cabins after Estimating missing values\n",
    "sns.catplot(x=\"Pclass\", col=\"Cabin_Class\",\n",
    "                data=train, kind=\"count\",\n",
    "                height=4, aspect=.7,col_order=['A','B','C','D','E','F','G'])\n",
    "plt.show()"
   ]
  },
  {
   "cell_type": "markdown",
   "metadata": {},
   "source": [
    "### 'Fare' Column:"
   ]
  },
  {
   "cell_type": "code",
   "execution_count": 21,
   "metadata": {},
   "outputs": [
    {
     "name": "stderr",
     "output_type": "stream",
     "text": [
      "C:\\Users\\odedb\\anaconda3\\lib\\site-packages\\seaborn\\categorical.py:1296: UserWarning: 12.5% of the points cannot be placed; you may want to decrease the size of the markers or use stripplot.\n",
      "  warnings.warn(msg, UserWarning)\n",
      "C:\\Users\\odedb\\anaconda3\\lib\\site-packages\\seaborn\\categorical.py:1296: UserWarning: 7.3% of the points cannot be placed; you may want to decrease the size of the markers or use stripplot.\n",
      "  warnings.warn(msg, UserWarning)\n",
      "C:\\Users\\odedb\\anaconda3\\lib\\site-packages\\seaborn\\categorical.py:1296: UserWarning: 31.7% of the points cannot be placed; you may want to decrease the size of the markers or use stripplot.\n",
      "  warnings.warn(msg, UserWarning)\n",
      "C:\\Users\\odedb\\anaconda3\\lib\\site-packages\\seaborn\\categorical.py:1296: UserWarning: 55.4% of the points cannot be placed; you may want to decrease the size of the markers or use stripplot.\n",
      "  warnings.warn(msg, UserWarning)\n",
      "C:\\Users\\odedb\\anaconda3\\lib\\site-packages\\seaborn\\categorical.py:1296: UserWarning: 79.9% of the points cannot be placed; you may want to decrease the size of the markers or use stripplot.\n",
      "  warnings.warn(msg, UserWarning)\n",
      "C:\\Users\\odedb\\anaconda3\\lib\\site-packages\\seaborn\\categorical.py:1296: UserWarning: 89.4% of the points cannot be placed; you may want to decrease the size of the markers or use stripplot.\n",
      "  warnings.warn(msg, UserWarning)\n",
      "C:\\Users\\odedb\\anaconda3\\lib\\site-packages\\seaborn\\categorical.py:1296: UserWarning: 84.0% of the points cannot be placed; you may want to decrease the size of the markers or use stripplot.\n",
      "  warnings.warn(msg, UserWarning)\n"
     ]
    },
    {
     "data": {
      "image/png": "[encoded data removed]",
      "text/plain": [
       "<Figure size 432x288 with 1 Axes>"
      ]
     },
     "metadata": {},
     "output_type": "display_data"
    }
   ],
   "source": [
    "# Let's plot a swarmplot of the ticket price distribution ['Fare'] by each Cabin Class:\n",
    "sns.swarmplot(x='Cabin_Class', y='Fare', data=train, order=['A','B','C','D','E','F','G'])\n",
    "plt.show()"
   ]
  },
  {
   "cell_type": "code",
   "execution_count": 22,
   "metadata": {},
   "outputs": [],
   "source": [
    "# As we can see, there is an outlier in Cabin B. It will be fixed by assigning to it a new value that equals to the mean of\n",
    "# the other ticket prices in Cabin B, plus a 3 sigma. In this way it stays a high value but not an outlier. \n",
    "mask = train['Cabin_Class'] == 'B'\n",
    "Cabin_Class_B = train[mask]\n",
    "outlier = train[mask]['Fare'].max()\n",
    "Avg = Cabin_Class_B[Cabin_Class_B['Fare'] < outlier]['Fare'].mean()\n",
    "Std = Cabin_Class_B[Cabin_Class_B['Fare'] < outlier]['Fare'].std()\n",
    "train['Fare'] = train['Fare'].replace(outlier, Avg + 3 * Std)"
   ]
  },
  {
   "cell_type": "markdown",
   "metadata": {},
   "source": [
    "### 'Embarked' Column:"
   ]
  },
  {
   "cell_type": "code",
   "execution_count": 23,
   "metadata": {},
   "outputs": [],
   "source": [
    "# Embarked column - There are 2 missing values, we will fill them with the most frequent value 'S':\n",
    "train.Embarked.fillna('S',inplace = True)"
   ]
  },
  {
   "cell_type": "markdown",
   "metadata": {},
   "source": [
    "### 'Age_col' Column:"
   ]
  },
  {
   "cell_type": "code",
   "execution_count": 24,
   "metadata": {},
   "outputs": [],
   "source": [
    "# Fix ages less than one year to be one\n",
    "babies = train['Age'] < 1\n",
    "train.loc[babies, \"Age\"] = 1"
   ]
  },
  {
   "cell_type": "markdown",
   "metadata": {},
   "source": [
    "In the 'Age' column there are many missing values aswell. We want to check for correlations between the categorical columns in the data. To do that we need first to transform these column to categorical by assigning the ages to bin ranges. We will call the new column 'Age_col'. After that, we will use the Chi-squared function to check for correlations.  "
   ]
  },
  {
   "cell_type": "code",
   "execution_count": 25,
   "metadata": {},
   "outputs": [],
   "source": [
    "# Define ranges:\n",
    "ranges = [*range(0,90,10)]\n",
    "group_names = ['0-10','10-20', '20-30','30-40', '40-50', '50-60', '60-70','70-80']\n",
    "# Create categorical Age group column\n",
    "train['Age_col'] = pd.cut(train['Age'], bins = ranges, labels = group_names)"
   ]
  },
  {
   "cell_type": "code",
   "execution_count": 26,
   "metadata": {},
   "outputs": [
    {
     "data": {
      "image/png": "[encoded data removed]",
      "text/plain": [
       "<Figure size 432x288 with 1 Axes>"
      ]
     },
     "metadata": {},
     "output_type": "display_data"
    }
   ],
   "source": [
    "# Choosing categorical columns to comapre with:\n",
    "Columns = ['Pclass','SibSp','Parch','Embarked','Share_ticket','Title','Cabin_Class']\n",
    "Col_def = 'Age_col'\n",
    "# Applying Chi-squared:\n",
    "Chi_sqrt(train,Columns,Col_def)"
   ]
  },
  {
   "cell_type": "markdown",
   "metadata": {},
   "source": [
    "We can see that 'Title' is highly correlated with 'Age_col', so we can impute the missing values with the probability imputer using the function 'Create_prob' to create the probabilities of the age according to the title. "
   ]
  },
  {
   "cell_type": "code",
   "execution_count": 27,
   "metadata": {},
   "outputs": [],
   "source": [
    "# Define the column that is to be imputed ['Age_col'], and the column with the higer correlation that the probabiliteis\n",
    "# will be computed from ['Title']\n",
    "Col_with_nans = 'Age_col'\n",
    "Col_prob_from = 'Title'\n",
    "\n",
    "# Convert 'Age_col' column from category to object - Create_prob function works better with object columns.\n",
    "train.Age_col=train.Age_col.astype('object')\n",
    "\n",
    "# Call the function and find probabilities: \n",
    "Cat_Title,Cat_Title_proba = Create_prob(train)"
   ]
  },
  {
   "cell_type": "code",
   "execution_count": 28,
   "metadata": {},
   "outputs": [
    {
     "data": {
      "image/png": "[encoded data removed]",
      "text/plain": [
       "<Figure size 432x288 with 1 Axes>"
      ]
     },
     "metadata": {},
     "output_type": "display_data"
    }
   ],
   "source": [
    "# Create a function that randomly assigns 'Age_col' values by grouping 'Title' value and according to their probabilities\n",
    "# lists:  \n",
    "  \n",
    "def Assign_Age(df,row,i):\n",
    "    if type(row) == float:\n",
    "        title = df['Title'][i]\n",
    "        row = str(np.random.choice(Cat_Title[title],1,p=Cat_Title_proba[title])[0])\n",
    "    return(row)\n",
    "\n",
    "train['Age_col']=[Assign_Age(train,row,i) for i, row in enumerate(train['Age_col'])]\n",
    "\n",
    "\n",
    "# Let's plot a counterplot for the full imputer column - 'Age_col'\n",
    "sns.countplot(x='Age_col',data=train , order=group_names)\n",
    "plt.show()"
   ]
  },
  {
   "cell_type": "markdown",
   "metadata": {},
   "source": [
    "### 'Age' column:\n",
    "Impute the missing values of age by the mean value of existing values for each age group in 'Age_col'"
   ]
  },
  {
   "cell_type": "code",
   "execution_count": 29,
   "metadata": {},
   "outputs": [],
   "source": [
    "# list of 'Age_col' values by order:\n",
    "Age_ranges = list(np.sort(train.Age_col.unique()))\n",
    "\n",
    "# Define a function that computes the mean value for each age group in 'Age_col'. Age_means is a dictionary with columns of \n",
    "# 'Age_col' and thier coresponding mean value to be assigned in 'Age' missing values.\n",
    "def Age_mean(Age_ranges,df):\n",
    "    Age_means = {}\n",
    "    for age_bin in Age_ranges:\n",
    "        Age_means[age_bin] = round(df[df['Age_col'] == age_bin]['Age'].mean()) \n",
    "    return(Age_means)\n",
    "Age_means = Age_mean(Age_ranges,train)  \n",
    "\n",
    "# Impute missing values:\n",
    "train.loc[np.isnan(train['Age']),'Age'] =[Age_means[row['Age_col']] for i, row in train.iterrows() if np.isnan(row['Age'])]"
   ]
  },
  {
   "cell_type": "markdown",
   "metadata": {},
   "source": [
    "### Continuous values with hist:"
   ]
  },
  {
   "cell_type": "code",
   "execution_count": 30,
   "metadata": {},
   "outputs": [
    {
     "data": {
      "image/png": "[encoded data removed]",
      "text/plain": [
       "<Figure size 864x288 with 2 Axes>"
      ]
     },
     "metadata": {},
     "output_type": "display_data"
    }
   ],
   "source": [
    "Cat_Columns = ['Age','Fare']\n",
    "sns.set(style = \"darkgrid\")\n",
    "fig = plt.figure(figsize = (12, 4))\n",
    "fig.subplots_adjust(hspace = 0.3, wspace = 0.3)\n",
    "\n",
    "for i ,col in enumerate(Cat_Columns):\n",
    "    ax = fig.add_subplot(1, 2, i + 1)\n",
    "    ax.set_xlabel(col)\n",
    "    plt.hist(x = col,data = train,bins = 25)\n",
    "plt.show()"
   ]
  },
  {
   "cell_type": "markdown",
   "metadata": {},
   "source": [
    "- 'Age' column is distributed close to normal - need scaling before modeling.\n",
    "- 'Fare' column is more exponential distributed, it will need some feature engineering before modeling - Log transformation."
   ]
  },
  {
   "cell_type": "code",
   "execution_count": 31,
   "metadata": {},
   "outputs": [],
   "source": [
    "# Log transformation for Fare\n",
    "log = PowerTransformer()\n",
    "# Fit and Transform Log transformation:\n",
    "log.fit(train[['Fare']])\n",
    "train['Fare_log'] = log.transform(train[['Fare']])\n",
    "\n",
    "# Scaler for scaling the Age column:\n",
    "scaler = StandardScaler()\n",
    "# Fit and transform Scaler:\n",
    "scaler.fit(train[['Age']])\n",
    "train['scaled_Age'] = scaler.transform(train[['Age']])"
   ]
  },
  {
   "cell_type": "code",
   "execution_count": 32,
   "metadata": {},
   "outputs": [
    {
     "data": {
      "image/png": "[encoded data removed]",
      "text/plain": [
       "<Figure size 864x576 with 4 Axes>"
      ]
     },
     "metadata": {},
     "output_type": "display_data"
    }
   ],
   "source": [
    "Cat_Columns = ['Age','Fare','scaled_Age','Fare_log']\n",
    "sns.set(style = \"darkgrid\")\n",
    "fig = plt.figure(figsize = (12, 8))\n",
    "fig.subplots_adjust(hspace = 0.3, wspace = 0.3)\n",
    "\n",
    "for i ,col in enumerate(Cat_Columns):\n",
    "    ax = fig.add_subplot(2, 2, i + 1)\n",
    "    ax.set_xlabel(col)\n",
    "    plt.hist(x = col,data = train,bins = 25)\n",
    "plt.show()"
   ]
  },
  {
   "cell_type": "markdown",
   "metadata": {},
   "source": [
    "### Preproccesing the Test set:\n",
    "Just before we start building a machine learning model to predict whether a passenger survived or not, we first need to apply the preproccesing transformations to the test set according what was done to the train set.  "
   ]
  },
  {
   "cell_type": "code",
   "execution_count": 33,
   "metadata": {},
   "outputs": [
    {
     "data": {
      "text/plain": [
       "PassengerId      0\n",
       "Survived         0\n",
       "Pclass           0\n",
       "Name             0\n",
       "Sex              0\n",
       "Age             86\n",
       "SibSp            0\n",
       "Parch            0\n",
       "Ticket           0\n",
       "Fare             1\n",
       "Cabin          327\n",
       "Embarked         0\n",
       "dtype: int64"
      ]
     },
     "execution_count": 33,
     "metadata": {},
     "output_type": "execute_result"
    }
   ],
   "source": [
    "# Missing data analysis:\n",
    "test.isna().sum()"
   ]
  },
  {
   "cell_type": "code",
   "execution_count": 34,
   "metadata": {},
   "outputs": [],
   "source": [
    "# 'Ticket' column:\n",
    "\n",
    "# Add a new column for Shared ticket - Yes(1) or No(0)\n",
    "test['Share_ticket'] = 0\n",
    "\n",
    "# Create a mask for rows with shared ticket\n",
    "mask = test['Ticket'].isin(Ticket_Dup_test)\n",
    "\n",
    "# Apply mask on new column and assign 1 for shared ticket\n",
    "test.loc[mask,'Share_ticket'] = 1\n",
    "\n",
    "\n",
    "\n",
    "# 'Title' column:\n",
    "\n",
    "# From the 'Name' column we can extruct the Title of the passenger: \n",
    "test['Title'] = [row.split()[1] for row in test.Name]\n",
    "\n",
    "# First we will change every Title that is not ['Mr.', 'Mrs.', 'Miss.', 'Master.'] in to 'M':\n",
    "Mtitle = test.Title.value_counts() < 10\n",
    "test.loc[test['Title'].map(Mtitle),'Title'] = 'M'\n",
    "\n",
    "# We will use the average 'Age' of Miss. and Mrs. from what was calculated in the train set.\n",
    "# Apply function on 'Title' column with list comprehension:\n",
    "test['Title'] = [Change_title(test,row,i) for i, row in enumerate(test['Title'])]\n",
    "\n",
    "\n",
    "\n",
    "# 'SibSp' and 'Parch' columns\n",
    "\n",
    "# Fixing the 'SibSp' and 'Parch' columns:\n",
    "for col in ['Parch','SibSp']:\n",
    "    test[col] = test[col].apply(lambda x: 2 if x > 2 else x)\n",
    "\n",
    "    \n",
    "    \n",
    "# 'Cabin_Class' column:\n",
    "\n",
    "# Apply function on 'Cabin'\n",
    "test['Cabin_Class'] = [Class_L(row) for row in test['Cabin']]\n",
    "\n",
    "# Create a list of shared tickets: \n",
    "Tickets_Dup = test[test['Share_ticket'] == 1]['Ticket'].unique().tolist()\n",
    "\n",
    "# Case 1: Imputing mising values according to the same cabin for passengers in a group:\n",
    "test = Case_1(test,Tickets_Dup)\n",
    "\n",
    "# Case 2: Randomly assigns Cabin_Class values by Pclass values and according to their probabilities lists for groups with shared\n",
    "# ticket, and unknown cabin for all group:\n",
    "Tickets_Dup2 = test[test.Cabin_Class.isna() & test.Share_ticket == 1]['Ticket'].unique().tolist()\n",
    "test = Case_2(test,Tickets_Dup2)\n",
    "\n",
    "# Case 3: Randomly assigns Cabin_Class values by Pclass values and according to their probabilities lists for lone passengers:\n",
    "test['Cabin_Class'] = [Assign_Cabin(row,i) for i, row in enumerate(test['Cabin_Class'])] \n",
    "\n",
    "\n",
    "\n",
    "# 'Fare' column:\n",
    "\n",
    "# Fill missing value by mean value:\n",
    "test['Fare'] = test['Fare'].fillna(test['Fare'].mean())\n",
    "\n",
    "# Log transformation for for scalling to normal prob:\n",
    "test['Fare_log'] = log.transform(test[['Fare']])\n",
    "\n",
    "\n",
    "\n",
    "# 'Age' & 'Age_col' column:\n",
    "\n",
    "# Fix ages less than one year to be one\n",
    "test.loc[babies, \"Age\"] = 1\n",
    "# Create categorical Age group column\n",
    "test['Age_col'] = pd.cut(test['Age'], bins = ranges, labels = group_names)\n",
    "# Randomly assigns 'Age_col' values by grouping 'Title' value and according to their probabilities lists: \n",
    "test['Age_col'] = [Assign_Age(test,row,i) for i, row in enumerate(test['Age_col'])]\n",
    "# Impute mean values per Age_col group for Age column: \n",
    "test.loc[np.isnan(test['Age']),'Age'] = [Age_means[row['Age_col']] for i, row in test.iterrows() if np.isnan(row['Age'])]\n",
    "\n",
    "# Scaling transformation:\n",
    "test['scaled_Age'] = scaler.transform(test[['Age']])\n",
    "\n",
    "# Drop unused columns:\n",
    "test.drop(['Ticket', 'Cabin' , 'Name','Sex' , 'Age_col','Fare' , 'Age'],inplace=True, axis=1)"
   ]
  },
  {
   "cell_type": "code",
   "execution_count": 35,
   "metadata": {},
   "outputs": [
    {
     "data": {
      "text/html": [
       "<div>\n",
       "<style scoped>\n",
       "    .dataframe tbody tr th:only-of-type {\n",
       "        vertical-align: middle;\n",
       "    }\n",
       "\n",
       "    .dataframe tbody tr th {\n",
       "        vertical-align: top;\n",
       "    }\n",
       "\n",
       "    .dataframe thead th {\n",
       "        text-align: right;\n",
       "    }\n",
       "</style>\n",
       "<table border=\"1\" class=\"dataframe\">\n",
       "  <thead>\n",
       "    <tr style=\"text-align: right;\">\n",
       "      <th></th>\n",
       "      <th>PassengerId</th>\n",
       "      <th>Survived</th>\n",
       "      <th>Pclass</th>\n",
       "      <th>SibSp</th>\n",
       "      <th>Parch</th>\n",
       "      <th>Embarked</th>\n",
       "      <th>Share_ticket</th>\n",
       "      <th>Title</th>\n",
       "      <th>Cabin_Class</th>\n",
       "      <th>Fare_log</th>\n",
       "      <th>scaled_Age</th>\n",
       "    </tr>\n",
       "  </thead>\n",
       "  <tbody>\n",
       "    <tr>\n",
       "      <th>0</th>\n",
       "      <td>1</td>\n",
       "      <td>0</td>\n",
       "      <td>3</td>\n",
       "      <td>1</td>\n",
       "      <td>0</td>\n",
       "      <td>S</td>\n",
       "      <td>0</td>\n",
       "      <td>Mr.</td>\n",
       "      <td>F</td>\n",
       "      <td>-0.881539</td>\n",
       "      <td>-0.547515</td>\n",
       "    </tr>\n",
       "    <tr>\n",
       "      <th>1</th>\n",
       "      <td>2</td>\n",
       "      <td>1</td>\n",
       "      <td>1</td>\n",
       "      <td>1</td>\n",
       "      <td>0</td>\n",
       "      <td>C</td>\n",
       "      <td>1</td>\n",
       "      <td>Mrs.</td>\n",
       "      <td>C</td>\n",
       "      <td>1.346257</td>\n",
       "      <td>0.565471</td>\n",
       "    </tr>\n",
       "    <tr>\n",
       "      <th>2</th>\n",
       "      <td>3</td>\n",
       "      <td>1</td>\n",
       "      <td>3</td>\n",
       "      <td>0</td>\n",
       "      <td>0</td>\n",
       "      <td>S</td>\n",
       "      <td>0</td>\n",
       "      <td>Miss.</td>\n",
       "      <td>G</td>\n",
       "      <td>-0.792974</td>\n",
       "      <td>-0.269268</td>\n",
       "    </tr>\n",
       "    <tr>\n",
       "      <th>3</th>\n",
       "      <td>4</td>\n",
       "      <td>1</td>\n",
       "      <td>1</td>\n",
       "      <td>1</td>\n",
       "      <td>0</td>\n",
       "      <td>S</td>\n",
       "      <td>1</td>\n",
       "      <td>Mrs.</td>\n",
       "      <td>C</td>\n",
       "      <td>1.073436</td>\n",
       "      <td>0.356786</td>\n",
       "    </tr>\n",
       "    <tr>\n",
       "      <th>4</th>\n",
       "      <td>5</td>\n",
       "      <td>0</td>\n",
       "      <td>3</td>\n",
       "      <td>0</td>\n",
       "      <td>0</td>\n",
       "      <td>S</td>\n",
       "      <td>0</td>\n",
       "      <td>Mr.</td>\n",
       "      <td>F</td>\n",
       "      <td>-0.777377</td>\n",
       "      <td>0.356786</td>\n",
       "    </tr>\n",
       "    <tr>\n",
       "      <th>...</th>\n",
       "      <td>...</td>\n",
       "      <td>...</td>\n",
       "      <td>...</td>\n",
       "      <td>...</td>\n",
       "      <td>...</td>\n",
       "      <td>...</td>\n",
       "      <td>...</td>\n",
       "      <td>...</td>\n",
       "      <td>...</td>\n",
       "      <td>...</td>\n",
       "      <td>...</td>\n",
       "    </tr>\n",
       "    <tr>\n",
       "      <th>886</th>\n",
       "      <td>887</td>\n",
       "      <td>0</td>\n",
       "      <td>2</td>\n",
       "      <td>0</td>\n",
       "      <td>0</td>\n",
       "      <td>S</td>\n",
       "      <td>0</td>\n",
       "      <td>Mr.</td>\n",
       "      <td>F</td>\n",
       "      <td>-0.297888</td>\n",
       "      <td>-0.199707</td>\n",
       "    </tr>\n",
       "    <tr>\n",
       "      <th>887</th>\n",
       "      <td>888</td>\n",
       "      <td>1</td>\n",
       "      <td>1</td>\n",
       "      <td>0</td>\n",
       "      <td>0</td>\n",
       "      <td>S</td>\n",
       "      <td>0</td>\n",
       "      <td>Miss.</td>\n",
       "      <td>B</td>\n",
       "      <td>0.528702</td>\n",
       "      <td>-0.756200</td>\n",
       "    </tr>\n",
       "    <tr>\n",
       "      <th>888</th>\n",
       "      <td>889</td>\n",
       "      <td>0</td>\n",
       "      <td>3</td>\n",
       "      <td>1</td>\n",
       "      <td>2</td>\n",
       "      <td>S</td>\n",
       "      <td>1</td>\n",
       "      <td>Miss.</td>\n",
       "      <td>E</td>\n",
       "      <td>0.288065</td>\n",
       "      <td>0.356786</td>\n",
       "    </tr>\n",
       "    <tr>\n",
       "      <th>889</th>\n",
       "      <td>890</td>\n",
       "      <td>1</td>\n",
       "      <td>1</td>\n",
       "      <td>0</td>\n",
       "      <td>0</td>\n",
       "      <td>C</td>\n",
       "      <td>0</td>\n",
       "      <td>Mr.</td>\n",
       "      <td>C</td>\n",
       "      <td>0.528702</td>\n",
       "      <td>-0.269268</td>\n",
       "    </tr>\n",
       "    <tr>\n",
       "      <th>890</th>\n",
       "      <td>891</td>\n",
       "      <td>0</td>\n",
       "      <td>3</td>\n",
       "      <td>0</td>\n",
       "      <td>0</td>\n",
       "      <td>Q</td>\n",
       "      <td>0</td>\n",
       "      <td>Mr.</td>\n",
       "      <td>F</td>\n",
       "      <td>-0.815216</td>\n",
       "      <td>0.148102</td>\n",
       "    </tr>\n",
       "  </tbody>\n",
       "</table>\n",
       "<p>891 rows × 11 columns</p>\n",
       "</div>"
      ],
      "text/plain": [
       "     PassengerId  Survived  Pclass  SibSp  Parch Embarked  Share_ticket  \\\n",
       "0              1         0       3      1      0        S             0   \n",
       "1              2         1       1      1      0        C             1   \n",
       "2              3         1       3      0      0        S             0   \n",
       "3              4         1       1      1      0        S             1   \n",
       "4              5         0       3      0      0        S             0   \n",
       "..           ...       ...     ...    ...    ...      ...           ...   \n",
       "886          887         0       2      0      0        S             0   \n",
       "887          888         1       1      0      0        S             0   \n",
       "888          889         0       3      1      2        S             1   \n",
       "889          890         1       1      0      0        C             0   \n",
       "890          891         0       3      0      0        Q             0   \n",
       "\n",
       "     Title Cabin_Class  Fare_log  scaled_Age  \n",
       "0      Mr.           F -0.881539   -0.547515  \n",
       "1     Mrs.           C  1.346257    0.565471  \n",
       "2    Miss.           G -0.792974   -0.269268  \n",
       "3     Mrs.           C  1.073436    0.356786  \n",
       "4      Mr.           F -0.777377    0.356786  \n",
       "..     ...         ...       ...         ...  \n",
       "886    Mr.           F -0.297888   -0.199707  \n",
       "887  Miss.           B  0.528702   -0.756200  \n",
       "888  Miss.           E  0.288065    0.356786  \n",
       "889    Mr.           C  0.528702   -0.269268  \n",
       "890    Mr.           F -0.815216    0.148102  \n",
       "\n",
       "[891 rows x 11 columns]"
      ]
     },
     "execution_count": 35,
     "metadata": {},
     "output_type": "execute_result"
    }
   ],
   "source": [
    "# Drop unused columns:\n",
    "train.drop(['Ticket', 'Cabin' , 'Name','Sex' , 'Age_col','Fare' , 'Age'],inplace=True, axis=1)\n",
    "\n",
    "# View Final train set:\n",
    "train.to_csv('train_clean.csv',index = False)\n",
    "test.to_csv('test_clean.csv',index = False)\n",
    "train"
   ]
  },
  {
   "cell_type": "code",
   "execution_count": 36,
   "metadata": {},
   "outputs": [
    {
     "data": {
      "text/html": [
       "<div>\n",
       "<style scoped>\n",
       "    .dataframe tbody tr th:only-of-type {\n",
       "        vertical-align: middle;\n",
       "    }\n",
       "\n",
       "    .dataframe tbody tr th {\n",
       "        vertical-align: top;\n",
       "    }\n",
       "\n",
       "    .dataframe thead th {\n",
       "        text-align: right;\n",
       "    }\n",
       "</style>\n",
       "<table border=\"1\" class=\"dataframe\">\n",
       "  <thead>\n",
       "    <tr style=\"text-align: right;\">\n",
       "      <th></th>\n",
       "      <th>PassengerId</th>\n",
       "      <th>Survived</th>\n",
       "      <th>Pclass</th>\n",
       "      <th>SibSp</th>\n",
       "      <th>Parch</th>\n",
       "      <th>Embarked</th>\n",
       "      <th>Share_ticket</th>\n",
       "      <th>Title</th>\n",
       "      <th>Cabin_Class</th>\n",
       "      <th>Fare_log</th>\n",
       "      <th>scaled_Age</th>\n",
       "    </tr>\n",
       "  </thead>\n",
       "  <tbody>\n",
       "    <tr>\n",
       "      <th>0</th>\n",
       "      <td>892</td>\n",
       "      <td>0</td>\n",
       "      <td>3</td>\n",
       "      <td>0</td>\n",
       "      <td>0</td>\n",
       "      <td>Q</td>\n",
       "      <td>0</td>\n",
       "      <td>Mr.</td>\n",
       "      <td>G</td>\n",
       "      <td>-0.805091</td>\n",
       "      <td>0.322006</td>\n",
       "    </tr>\n",
       "    <tr>\n",
       "      <th>1</th>\n",
       "      <td>893</td>\n",
       "      <td>1</td>\n",
       "      <td>3</td>\n",
       "      <td>1</td>\n",
       "      <td>0</td>\n",
       "      <td>S</td>\n",
       "      <td>0</td>\n",
       "      <td>Mrs.</td>\n",
       "      <td>C</td>\n",
       "      <td>-0.916364</td>\n",
       "      <td>1.191526</td>\n",
       "    </tr>\n",
       "    <tr>\n",
       "      <th>2</th>\n",
       "      <td>894</td>\n",
       "      <td>0</td>\n",
       "      <td>2</td>\n",
       "      <td>0</td>\n",
       "      <td>0</td>\n",
       "      <td>Q</td>\n",
       "      <td>0</td>\n",
       "      <td>Mr.</td>\n",
       "      <td>E</td>\n",
       "      <td>-0.592373</td>\n",
       "      <td>2.234951</td>\n",
       "    </tr>\n",
       "    <tr>\n",
       "      <th>3</th>\n",
       "      <td>895</td>\n",
       "      <td>0</td>\n",
       "      <td>3</td>\n",
       "      <td>0</td>\n",
       "      <td>0</td>\n",
       "      <td>S</td>\n",
       "      <td>0</td>\n",
       "      <td>Mr.</td>\n",
       "      <td>C</td>\n",
       "      <td>-0.704197</td>\n",
       "      <td>-0.199707</td>\n",
       "    </tr>\n",
       "    <tr>\n",
       "      <th>4</th>\n",
       "      <td>896</td>\n",
       "      <td>1</td>\n",
       "      <td>3</td>\n",
       "      <td>1</td>\n",
       "      <td>1</td>\n",
       "      <td>S</td>\n",
       "      <td>1</td>\n",
       "      <td>Mrs.</td>\n",
       "      <td>G</td>\n",
       "      <td>-0.354304</td>\n",
       "      <td>-0.547515</td>\n",
       "    </tr>\n",
       "    <tr>\n",
       "      <th>...</th>\n",
       "      <td>...</td>\n",
       "      <td>...</td>\n",
       "      <td>...</td>\n",
       "      <td>...</td>\n",
       "      <td>...</td>\n",
       "      <td>...</td>\n",
       "      <td>...</td>\n",
       "      <td>...</td>\n",
       "      <td>...</td>\n",
       "      <td>...</td>\n",
       "      <td>...</td>\n",
       "    </tr>\n",
       "    <tr>\n",
       "      <th>413</th>\n",
       "      <td>1305</td>\n",
       "      <td>0</td>\n",
       "      <td>3</td>\n",
       "      <td>0</td>\n",
       "      <td>0</td>\n",
       "      <td>S</td>\n",
       "      <td>0</td>\n",
       "      <td>Mr.</td>\n",
       "      <td>E</td>\n",
       "      <td>-0.777377</td>\n",
       "      <td>2.374074</td>\n",
       "    </tr>\n",
       "    <tr>\n",
       "      <th>414</th>\n",
       "      <td>1306</td>\n",
       "      <td>1</td>\n",
       "      <td>1</td>\n",
       "      <td>0</td>\n",
       "      <td>0</td>\n",
       "      <td>C</td>\n",
       "      <td>1</td>\n",
       "      <td>Mrs.</td>\n",
       "      <td>C</td>\n",
       "      <td>1.728350</td>\n",
       "      <td>0.635033</td>\n",
       "    </tr>\n",
       "    <tr>\n",
       "      <th>415</th>\n",
       "      <td>1307</td>\n",
       "      <td>0</td>\n",
       "      <td>3</td>\n",
       "      <td>0</td>\n",
       "      <td>0</td>\n",
       "      <td>S</td>\n",
       "      <td>0</td>\n",
       "      <td>Mr.</td>\n",
       "      <td>F</td>\n",
       "      <td>-0.881539</td>\n",
       "      <td>0.600252</td>\n",
       "    </tr>\n",
       "    <tr>\n",
       "      <th>416</th>\n",
       "      <td>1308</td>\n",
       "      <td>0</td>\n",
       "      <td>3</td>\n",
       "      <td>0</td>\n",
       "      <td>0</td>\n",
       "      <td>S</td>\n",
       "      <td>0</td>\n",
       "      <td>Mr.</td>\n",
       "      <td>F</td>\n",
       "      <td>-0.777377</td>\n",
       "      <td>-0.338830</td>\n",
       "    </tr>\n",
       "    <tr>\n",
       "      <th>417</th>\n",
       "      <td>1309</td>\n",
       "      <td>1</td>\n",
       "      <td>3</td>\n",
       "      <td>1</td>\n",
       "      <td>1</td>\n",
       "      <td>C</td>\n",
       "      <td>1</td>\n",
       "      <td>Master.</td>\n",
       "      <td>F</td>\n",
       "      <td>0.241162</td>\n",
       "      <td>-1.799625</td>\n",
       "    </tr>\n",
       "  </tbody>\n",
       "</table>\n",
       "<p>418 rows × 11 columns</p>\n",
       "</div>"
      ],
      "text/plain": [
       "     PassengerId  Survived  Pclass  SibSp  Parch Embarked  Share_ticket  \\\n",
       "0            892         0       3      0      0        Q             0   \n",
       "1            893         1       3      1      0        S             0   \n",
       "2            894         0       2      0      0        Q             0   \n",
       "3            895         0       3      0      0        S             0   \n",
       "4            896         1       3      1      1        S             1   \n",
       "..           ...       ...     ...    ...    ...      ...           ...   \n",
       "413         1305         0       3      0      0        S             0   \n",
       "414         1306         1       1      0      0        C             1   \n",
       "415         1307         0       3      0      0        S             0   \n",
       "416         1308         0       3      0      0        S             0   \n",
       "417         1309         1       3      1      1        C             1   \n",
       "\n",
       "       Title Cabin_Class  Fare_log  scaled_Age  \n",
       "0        Mr.           G -0.805091    0.322006  \n",
       "1       Mrs.           C -0.916364    1.191526  \n",
       "2        Mr.           E -0.592373    2.234951  \n",
       "3        Mr.           C -0.704197   -0.199707  \n",
       "4       Mrs.           G -0.354304   -0.547515  \n",
       "..       ...         ...       ...         ...  \n",
       "413      Mr.           E -0.777377    2.374074  \n",
       "414     Mrs.           C  1.728350    0.635033  \n",
       "415      Mr.           F -0.881539    0.600252  \n",
       "416      Mr.           F -0.777377   -0.338830  \n",
       "417  Master.           F  0.241162   -1.799625  \n",
       "\n",
       "[418 rows x 11 columns]"
      ]
     },
     "execution_count": 36,
     "metadata": {},
     "output_type": "execute_result"
    }
   ],
   "source": [
    "test"
   ]
  },
  {
   "cell_type": "code",
   "execution_count": null,
   "metadata": {},
   "outputs": [],
   "source": []
  }
 ],
 "metadata": {
  "kernelspec": {
   "display_name": "Python 3",
   "language": "python",
   "name": "python3"
  },
  "language_info": {
   "codemirror_mode": {
    "name": "ipython",
    "version": 3
   },
   "file_extension": ".py",
   "mimetype": "text/x-python",
   "name": "python",
   "nbconvert_exporter": "python",
   "pygments_lexer": "ipython3",
   "version": "3.8.3"
  }
 },
 "nbformat": 4,
 "nbformat_minor": 4
}
